{
  "nbformat": 4,
  "nbformat_minor": 0,
  "metadata": {
    "colab": {
      "name": "Medical Dataset- ML Based Models.ipynb",
      "provenance": []
    },
    "kernelspec": {
      "name": "python3",
      "display_name": "Python 3"
    },
    "language_info": {
      "name": "python"
    }
  },
  "cells": [
    {
      "cell_type": "code",
      "execution_count": 14,
      "metadata": {
        "id": "-f8br-Qfac30"
      },
      "outputs": [],
      "source": [
        "import logging\n",
        "import pandas as pd\n",
        "import numpy as np\n",
        "from numpy import random\n",
        "import gensim\n",
        "import nltk\n",
        "from sklearn.model_selection import train_test_split\n",
        "from sklearn.feature_extraction.text import CountVectorizer, TfidfVectorizer\n",
        "from sklearn.metrics import accuracy_score, confusion_matrix\n",
        "import matplotlib.pyplot as plt\n",
        "from nltk.corpus import stopwords\n",
        "import re\n",
        "from bs4 import BeautifulSoup"
      ]
    },
    {
      "cell_type": "code",
      "source": [
        "from google.colab import drive\n",
        "drive.mount('/content/drive')"
      ],
      "metadata": {
        "colab": {
          "base_uri": "https://localhost:8080/"
        },
        "id": "PHlkTKPocnMc",
        "outputId": "fdb60d0f-4161-4402-b278-c4957ccf466d"
      },
      "execution_count": 15,
      "outputs": [
        {
          "output_type": "stream",
          "name": "stdout",
          "text": [
            "Drive already mounted at /content/drive; to attempt to forcibly remount, call drive.mount(\"/content/drive\", force_remount=True).\n"
          ]
        }
      ]
    },
    {
      "cell_type": "code",
      "source": [
        "df = pd.read_csv(\"drive/MyDrive/overview-of-recordings.csv\")"
      ],
      "metadata": {
        "id": "WvH-cIFKgRyn"
      },
      "execution_count": 16,
      "outputs": []
    },
    {
      "cell_type": "code",
      "source": [
        "df_text = df[['phrase', 'prompt']]\n",
        "df_text"
      ],
      "metadata": {
        "colab": {
          "base_uri": "https://localhost:8080/",
          "height": 424
        },
        "id": "Tc7FbXsYgUHu",
        "outputId": "7f12a866-bd62-418e-d4fc-7c012a9f9b75"
      },
      "execution_count": null,
      "outputs": [
        {
          "output_type": "execute_result",
          "data": {
            "text/plain": [
              "                                                 phrase            prompt\n",
              "0                       When I remember her I feel down    Emotional pain\n",
              "1     When I carry heavy things I feel like breaking...  Hair falling out\n",
              "2             there is too much pain when i move my arm       Heart hurts\n",
              "3     My son had his lip pierced and it is swollen a...    Infected wound\n",
              "4                My muscles in my lower back are aching    Infected wound\n",
              "...                                                 ...               ...\n",
              "6656  I feel a burning sensation in my guts about 2 ...      Stomach ache\n",
              "6657     I have a split on my thumb that will not heal.        Open wound\n",
              "6658                I feel a lot of pain in the joints.        Joint pain\n",
              "6659        The area around my heart doesn't feel good.       Heart hurts\n",
              "6660                  I complain alot with skin allergy        Skin issue\n",
              "\n",
              "[6661 rows x 2 columns]"
            ],
            "text/html": [
              "\n",
              "  <div id=\"df-649dbac7-170e-4495-a222-43afdaf22490\">\n",
              "    <div class=\"colab-df-container\">\n",
              "      <div>\n",
              "<style scoped>\n",
              "    .dataframe tbody tr th:only-of-type {\n",
              "        vertical-align: middle;\n",
              "    }\n",
              "\n",
              "    .dataframe tbody tr th {\n",
              "        vertical-align: top;\n",
              "    }\n",
              "\n",
              "    .dataframe thead th {\n",
              "        text-align: right;\n",
              "    }\n",
              "</style>\n",
              "<table border=\"1\" class=\"dataframe\">\n",
              "  <thead>\n",
              "    <tr style=\"text-align: right;\">\n",
              "      <th></th>\n",
              "      <th>phrase</th>\n",
              "      <th>prompt</th>\n",
              "    </tr>\n",
              "  </thead>\n",
              "  <tbody>\n",
              "    <tr>\n",
              "      <th>0</th>\n",
              "      <td>When I remember her I feel down</td>\n",
              "      <td>Emotional pain</td>\n",
              "    </tr>\n",
              "    <tr>\n",
              "      <th>1</th>\n",
              "      <td>When I carry heavy things I feel like breaking...</td>\n",
              "      <td>Hair falling out</td>\n",
              "    </tr>\n",
              "    <tr>\n",
              "      <th>2</th>\n",
              "      <td>there is too much pain when i move my arm</td>\n",
              "      <td>Heart hurts</td>\n",
              "    </tr>\n",
              "    <tr>\n",
              "      <th>3</th>\n",
              "      <td>My son had his lip pierced and it is swollen a...</td>\n",
              "      <td>Infected wound</td>\n",
              "    </tr>\n",
              "    <tr>\n",
              "      <th>4</th>\n",
              "      <td>My muscles in my lower back are aching</td>\n",
              "      <td>Infected wound</td>\n",
              "    </tr>\n",
              "    <tr>\n",
              "      <th>...</th>\n",
              "      <td>...</td>\n",
              "      <td>...</td>\n",
              "    </tr>\n",
              "    <tr>\n",
              "      <th>6656</th>\n",
              "      <td>I feel a burning sensation in my guts about 2 ...</td>\n",
              "      <td>Stomach ache</td>\n",
              "    </tr>\n",
              "    <tr>\n",
              "      <th>6657</th>\n",
              "      <td>I have a split on my thumb that will not heal.</td>\n",
              "      <td>Open wound</td>\n",
              "    </tr>\n",
              "    <tr>\n",
              "      <th>6658</th>\n",
              "      <td>I feel a lot of pain in the joints.</td>\n",
              "      <td>Joint pain</td>\n",
              "    </tr>\n",
              "    <tr>\n",
              "      <th>6659</th>\n",
              "      <td>The area around my heart doesn't feel good.</td>\n",
              "      <td>Heart hurts</td>\n",
              "    </tr>\n",
              "    <tr>\n",
              "      <th>6660</th>\n",
              "      <td>I complain alot with skin allergy</td>\n",
              "      <td>Skin issue</td>\n",
              "    </tr>\n",
              "  </tbody>\n",
              "</table>\n",
              "<p>6661 rows × 2 columns</p>\n",
              "</div>\n",
              "      <button class=\"colab-df-convert\" onclick=\"convertToInteractive('df-649dbac7-170e-4495-a222-43afdaf22490')\"\n",
              "              title=\"Convert this dataframe to an interactive table.\"\n",
              "              style=\"display:none;\">\n",
              "        \n",
              "  <svg xmlns=\"http://www.w3.org/2000/svg\" height=\"24px\"viewBox=\"0 0 24 24\"\n",
              "       width=\"24px\">\n",
              "    <path d=\"M0 0h24v24H0V0z\" fill=\"none\"/>\n",
              "    <path d=\"M18.56 5.44l.94 2.06.94-2.06 2.06-.94-2.06-.94-.94-2.06-.94 2.06-2.06.94zm-11 1L8.5 8.5l.94-2.06 2.06-.94-2.06-.94L8.5 2.5l-.94 2.06-2.06.94zm10 10l.94 2.06.94-2.06 2.06-.94-2.06-.94-.94-2.06-.94 2.06-2.06.94z\"/><path d=\"M17.41 7.96l-1.37-1.37c-.4-.4-.92-.59-1.43-.59-.52 0-1.04.2-1.43.59L10.3 9.45l-7.72 7.72c-.78.78-.78 2.05 0 2.83L4 21.41c.39.39.9.59 1.41.59.51 0 1.02-.2 1.41-.59l7.78-7.78 2.81-2.81c.8-.78.8-2.07 0-2.86zM5.41 20L4 18.59l7.72-7.72 1.47 1.35L5.41 20z\"/>\n",
              "  </svg>\n",
              "      </button>\n",
              "      \n",
              "  <style>\n",
              "    .colab-df-container {\n",
              "      display:flex;\n",
              "      flex-wrap:wrap;\n",
              "      gap: 12px;\n",
              "    }\n",
              "\n",
              "    .colab-df-convert {\n",
              "      background-color: #E8F0FE;\n",
              "      border: none;\n",
              "      border-radius: 50%;\n",
              "      cursor: pointer;\n",
              "      display: none;\n",
              "      fill: #1967D2;\n",
              "      height: 32px;\n",
              "      padding: 0 0 0 0;\n",
              "      width: 32px;\n",
              "    }\n",
              "\n",
              "    .colab-df-convert:hover {\n",
              "      background-color: #E2EBFA;\n",
              "      box-shadow: 0px 1px 2px rgba(60, 64, 67, 0.3), 0px 1px 3px 1px rgba(60, 64, 67, 0.15);\n",
              "      fill: #174EA6;\n",
              "    }\n",
              "\n",
              "    [theme=dark] .colab-df-convert {\n",
              "      background-color: #3B4455;\n",
              "      fill: #D2E3FC;\n",
              "    }\n",
              "\n",
              "    [theme=dark] .colab-df-convert:hover {\n",
              "      background-color: #434B5C;\n",
              "      box-shadow: 0px 1px 3px 1px rgba(0, 0, 0, 0.15);\n",
              "      filter: drop-shadow(0px 1px 2px rgba(0, 0, 0, 0.3));\n",
              "      fill: #FFFFFF;\n",
              "    }\n",
              "  </style>\n",
              "\n",
              "      <script>\n",
              "        const buttonEl =\n",
              "          document.querySelector('#df-649dbac7-170e-4495-a222-43afdaf22490 button.colab-df-convert');\n",
              "        buttonEl.style.display =\n",
              "          google.colab.kernel.accessAllowed ? 'block' : 'none';\n",
              "\n",
              "        async function convertToInteractive(key) {\n",
              "          const element = document.querySelector('#df-649dbac7-170e-4495-a222-43afdaf22490');\n",
              "          const dataTable =\n",
              "            await google.colab.kernel.invokeFunction('convertToInteractive',\n",
              "                                                     [key], {});\n",
              "          if (!dataTable) return;\n",
              "\n",
              "          const docLinkHtml = 'Like what you see? Visit the ' +\n",
              "            '<a target=\"_blank\" href=https://colab.research.google.com/notebooks/data_table.ipynb>data table notebook</a>'\n",
              "            + ' to learn more about interactive tables.';\n",
              "          element.innerHTML = '';\n",
              "          dataTable['output_type'] = 'display_data';\n",
              "          await google.colab.output.renderOutput(dataTable, element);\n",
              "          const docLink = document.createElement('div');\n",
              "          docLink.innerHTML = docLinkHtml;\n",
              "          element.appendChild(docLink);\n",
              "        }\n",
              "      </script>\n",
              "    </div>\n",
              "  </div>\n",
              "  "
            ]
          },
          "metadata": {},
          "execution_count": 5
        }
      ]
    },
    {
      "cell_type": "code",
      "source": [
        "df_text.rename(columns={'phrase':'text','prompt':'intent'},inplace=True)"
      ],
      "metadata": {
        "colab": {
          "base_uri": "https://localhost:8080/"
        },
        "id": "8A0XgFBYgWkE",
        "outputId": "f8255c5b-9842-4379-aeee-f5fc0b494dc3"
      },
      "execution_count": null,
      "outputs": [
        {
          "output_type": "stream",
          "name": "stderr",
          "text": [
            "/usr/local/lib/python3.7/dist-packages/pandas/core/frame.py:5047: SettingWithCopyWarning: \n",
            "A value is trying to be set on a copy of a slice from a DataFrame\n",
            "\n",
            "See the caveats in the documentation: https://pandas.pydata.org/pandas-docs/stable/user_guide/indexing.html#returning-a-view-versus-a-copy\n",
            "  errors=errors,\n"
          ]
        }
      ]
    },
    {
      "cell_type": "code",
      "source": [
        "from sklearn.model_selection import train_test_split\n",
        "traindf,testdf = train_test_split(df_text, test_size=0.2)\n",
        "validdf,testdf = train_test_split(traindf, test_size=0.5)\n",
        "\n",
        "print(traindf.shape,validdf.shape, testdf.shape)"
      ],
      "metadata": {
        "colab": {
          "base_uri": "https://localhost:8080/"
        },
        "id": "ZG1rZZaTgY8W",
        "outputId": "1625fd5a-b3a7-4483-e545-f0009cd68dde"
      },
      "execution_count": null,
      "outputs": [
        {
          "output_type": "stream",
          "name": "stdout",
          "text": [
            "(5328, 2) (2664, 2) (2664, 2)\n"
          ]
        }
      ]
    },
    {
      "cell_type": "code",
      "source": [
        "traindf.rename(columns={'phrase':'text','prompt':'intent'},inplace=True)\n",
        "\n",
        "validdf.rename(columns={'phrase':'text','prompt':'intent'},inplace=True)\n",
        "\n",
        "testdf.rename(columns={'phrase':'text','prompt':'intent'},inplace=True)"
      ],
      "metadata": {
        "id": "utSBEOXIgbAD"
      },
      "execution_count": null,
      "outputs": []
    },
    {
      "cell_type": "code",
      "source": [
        "def print_plot(index):\n",
        "    example = traindf[traindf.index == index][['text', 'intent']].values[0]\n",
        "    if len(example) > 0:\n",
        "        print(example[0])\n",
        "        print('intent:', example[1])\n",
        "print_plot(10)\n",
        "\n",
        "nltk.download('stopwords')\n",
        "\n",
        "REPLACE_BY_SPACE_RE = re.compile('[/(){}\\[\\]\\|@,;]')\n",
        "BAD_SYMBOLS_RE = re.compile('[^0-9a-z #+_]')\n",
        "STOPWORDS = set(stopwords.words('english'))\n",
        "\n",
        "def clean_text(text):\n",
        "    \"\"\"\n",
        "        text: a string\n",
        "        \n",
        "        return: modified initial string\n",
        "    \"\"\"\n",
        "    text = BeautifulSoup(text, \"lxml\").text # HTML decoding\n",
        "    text = text.lower() # lowercase text\n",
        "    text = REPLACE_BY_SPACE_RE.sub(' ', text) # replace REPLACE_BY_SPACE_RE symbols by space in text\n",
        "    text = BAD_SYMBOLS_RE.sub('', text) # delete symbols which are in BAD_SYMBOLS_RE from text\n",
        "    text = ' '.join(word for word in text.split() if word not in STOPWORDS) # delete stopwors from text\n",
        "    return text"
      ],
      "metadata": {
        "colab": {
          "base_uri": "https://localhost:8080/"
        },
        "id": "btbIPjQqgdjv",
        "outputId": "88ae9a78-01a0-41f3-e9ce-f4def4d31d84"
      },
      "execution_count": 17,
      "outputs": [
        {
          "output_type": "stream",
          "name": "stdout",
          "text": [
            "I have a sharp pain in my lower stomach.\n",
            "intent: Stomach ache\n"
          ]
        },
        {
          "output_type": "stream",
          "name": "stderr",
          "text": [
            "[nltk_data] Downloading package stopwords to /root/nltk_data...\n",
            "[nltk_data]   Unzipping corpora/stopwords.zip.\n"
          ]
        }
      ]
    },
    {
      "cell_type": "code",
      "source": [
        "traindf['text'] = traindf['text'].apply(clean_text)\n",
        "testdf['text'] = testdf['text'].apply(clean_text)\n",
        "print_plot(10)"
      ],
      "metadata": {
        "id": "bIfRW_RSh66R",
        "outputId": "89e1ede1-f934-451b-ec3c-0211e058a293",
        "colab": {
          "base_uri": "https://localhost:8080/"
        }
      },
      "execution_count": 18,
      "outputs": [
        {
          "output_type": "stream",
          "name": "stdout",
          "text": [
            "sharp pain lower stomach\n",
            "intent: Stomach ache\n"
          ]
        }
      ]
    },
    {
      "cell_type": "code",
      "source": [
        "traindf['text'].apply(lambda x: len(x.split(' '))).sum()\n",
        "\n",
        "X_train = traindf['text']\n",
        "Y_train = traindf['intent']\n",
        "X_test = testdf['text']\n",
        "Y_test = testdf['intent']"
      ],
      "metadata": {
        "id": "yLPVWr5Ll6r1"
      },
      "execution_count": 19,
      "outputs": []
    },
    {
      "cell_type": "code",
      "source": [
        "# using naive-bayes classifier\n",
        "\n",
        "from sklearn.naive_bayes import MultinomialNB\n",
        "from sklearn.pipeline import Pipeline\n",
        "from sklearn.feature_extraction.text import TfidfTransformer\n",
        "\n",
        "nb = Pipeline([('vect', CountVectorizer()),\n",
        "               ('tfidf', TfidfTransformer()),\n",
        "               ('clf', MultinomialNB()),\n",
        "              ])\n",
        "nb.fit(X_train, Y_train)\n",
        "\n",
        "\n",
        "from sklearn.metrics import classification_report\n",
        "y_pred = nb.predict(X_test)\n",
        "\n",
        "print('accuracy %s' % accuracy_score(y_pred, Y_test))\n",
        "print(classification_report(Y_test, y_pred))\n"
      ],
      "metadata": {
        "colab": {
          "base_uri": "https://localhost:8080/"
        },
        "id": "Q0Kgn39EmExp",
        "outputId": "74a22022-d333-471e-98fd-1ce9dacbffba"
      },
      "execution_count": 20,
      "outputs": [
        {
          "output_type": "stream",
          "name": "stdout",
          "text": [
            "accuracy 0.984984984984985\n",
            "                    precision    recall  f1-score   support\n",
            "\n",
            "              Acne       1.00      1.00      1.00       138\n",
            "         Back pain       0.99      1.00      0.99        97\n",
            "     Blurry vision       1.00      1.00      1.00       105\n",
            "   Body feels weak       1.00      1.00      1.00        95\n",
            "             Cough       1.00      1.00      1.00       112\n",
            "          Ear ache       1.00      1.00      1.00       105\n",
            "    Emotional pain       0.99      1.00      1.00       100\n",
            "      Feeling cold       1.00      1.00      1.00       100\n",
            "     Feeling dizzy       1.00      1.00      1.00        94\n",
            "         Foot ache       1.00      0.99      0.99        96\n",
            "  Hair falling out       1.00      0.99      1.00       105\n",
            "    Hard to breath       1.00      1.00      1.00       112\n",
            "         Head ache       0.95      1.00      0.98       101\n",
            "       Heart hurts       0.93      0.99      0.96       113\n",
            "    Infected wound       1.00      1.00      1.00       122\n",
            "Injury from sports       1.00      0.95      0.97        92\n",
            "     Internal pain       1.00      0.79      0.88       109\n",
            "        Joint pain       1.00      0.99      1.00       117\n",
            "         Knee pain       1.00      1.00      1.00       115\n",
            "       Muscle pain       0.97      0.96      0.97       105\n",
            "         Neck pain       1.00      0.99      1.00       101\n",
            "        Open wound       1.00      1.00      1.00        85\n",
            "     Shoulder pain       0.92      1.00      0.96       132\n",
            "        Skin issue       0.99      1.00      1.00       110\n",
            "      Stomach ache       0.91      0.97      0.94       103\n",
            "\n",
            "          accuracy                           0.98      2664\n",
            "         macro avg       0.99      0.98      0.98      2664\n",
            "      weighted avg       0.99      0.98      0.98      2664\n",
            "\n"
          ]
        }
      ]
    },
    {
      "cell_type": "code",
      "source": [
        "from sklearn.linear_model import SGDClassifier\n",
        "from sklearn.calibration import CalibratedClassifierCV\n",
        "\n",
        "model1 = Pipeline([('vect', CountVectorizer()),\n",
        "                ('tfidf', TfidfTransformer()),\n",
        "                ('clf', SGDClassifier(loss='hinge', penalty='l2',alpha=1e-3, random_state=42, max_iter=5, tol=None)),\n",
        "               ])\n",
        "sgd = CalibratedClassifierCV(model1)\n",
        "\n",
        "\n",
        "sgd.fit(X_train, Y_train)\n",
        "\n",
        "\n",
        "\n",
        "y_pred = sgd.predict(X_test)\n",
        "\n",
        "print('accuracy %s' % accuracy_score(y_pred, Y_test))\n",
        "print(classification_report(Y_test, y_pred))\n"
      ],
      "metadata": {
        "colab": {
          "base_uri": "https://localhost:8080/"
        },
        "id": "BASAS8FCmLZ5",
        "outputId": "caf6b018-e9c6-4823-8bff-1bfe9bcecb2b"
      },
      "execution_count": 21,
      "outputs": [
        {
          "output_type": "stream",
          "name": "stdout",
          "text": [
            "accuracy 0.9887387387387387\n",
            "                    precision    recall  f1-score   support\n",
            "\n",
            "              Acne       1.00      1.00      1.00       138\n",
            "         Back pain       0.99      1.00      0.99        97\n",
            "     Blurry vision       1.00      1.00      1.00       105\n",
            "   Body feels weak       1.00      1.00      1.00        95\n",
            "             Cough       1.00      1.00      1.00       112\n",
            "          Ear ache       1.00      1.00      1.00       105\n",
            "    Emotional pain       0.99      0.96      0.97       100\n",
            "      Feeling cold       1.00      1.00      1.00       100\n",
            "     Feeling dizzy       1.00      1.00      1.00        94\n",
            "         Foot ache       1.00      0.99      0.99        96\n",
            "  Hair falling out       1.00      0.99      1.00       105\n",
            "    Hard to breath       1.00      1.00      1.00       112\n",
            "         Head ache       0.99      1.00      1.00       101\n",
            "       Heart hurts       0.97      0.99      0.98       113\n",
            "    Infected wound       1.00      1.00      1.00       122\n",
            "Injury from sports       1.00      0.93      0.97        92\n",
            "     Internal pain       0.98      0.91      0.94       109\n",
            "        Joint pain       1.00      0.99      1.00       117\n",
            "         Knee pain       1.00      1.00      1.00       115\n",
            "       Muscle pain       0.97      1.00      0.99       105\n",
            "         Neck pain       1.00      0.99      1.00       101\n",
            "        Open wound       1.00      1.00      1.00        85\n",
            "     Shoulder pain       0.95      1.00      0.97       132\n",
            "        Skin issue       0.99      1.00      1.00       110\n",
            "      Stomach ache       0.91      0.95      0.93       103\n",
            "\n",
            "          accuracy                           0.99      2664\n",
            "         macro avg       0.99      0.99      0.99      2664\n",
            "      weighted avg       0.99      0.99      0.99      2664\n",
            "\n"
          ]
        }
      ]
    },
    {
      "cell_type": "code",
      "source": [
        "from sklearn.linear_model import LogisticRegression\n",
        "\n",
        "logreg = Pipeline([('vect', CountVectorizer()),\n",
        "                ('tfidf', TfidfTransformer()),\n",
        "                ('clf', LogisticRegression(n_jobs=1, C=1e5)),\n",
        "               ])\n",
        "logreg.fit(X_train, Y_train)\n",
        "\n",
        "y_pred = logreg.predict(X_test)\n",
        "\n",
        "print('accuracy %s' % accuracy_score(y_pred, Y_test))\n",
        "print(classification_report(Y_test, y_pred))\n"
      ],
      "metadata": {
        "colab": {
          "base_uri": "https://localhost:8080/"
        },
        "id": "Yx9H5HFFmRXg",
        "outputId": "92ef145c-f836-4e17-b5ca-33ab625f0c55"
      },
      "execution_count": 22,
      "outputs": [
        {
          "output_type": "stream",
          "name": "stderr",
          "text": [
            "/usr/local/lib/python3.7/dist-packages/sklearn/linear_model/_logistic.py:818: ConvergenceWarning: lbfgs failed to converge (status=1):\n",
            "STOP: TOTAL NO. of ITERATIONS REACHED LIMIT.\n",
            "\n",
            "Increase the number of iterations (max_iter) or scale the data as shown in:\n",
            "    https://scikit-learn.org/stable/modules/preprocessing.html\n",
            "Please also refer to the documentation for alternative solver options:\n",
            "    https://scikit-learn.org/stable/modules/linear_model.html#logistic-regression\n",
            "  extra_warning_msg=_LOGISTIC_SOLVER_CONVERGENCE_MSG,\n"
          ]
        },
        {
          "output_type": "stream",
          "name": "stdout",
          "text": [
            "accuracy 0.996996996996997\n",
            "                    precision    recall  f1-score   support\n",
            "\n",
            "              Acne       1.00      1.00      1.00       138\n",
            "         Back pain       0.99      1.00      0.99        97\n",
            "     Blurry vision       1.00      1.00      1.00       105\n",
            "   Body feels weak       1.00      1.00      1.00        95\n",
            "             Cough       1.00      1.00      1.00       112\n",
            "          Ear ache       1.00      1.00      1.00       105\n",
            "    Emotional pain       1.00      1.00      1.00       100\n",
            "      Feeling cold       1.00      1.00      1.00       100\n",
            "     Feeling dizzy       1.00      1.00      1.00        94\n",
            "         Foot ache       1.00      0.99      0.99        96\n",
            "  Hair falling out       1.00      0.99      1.00       105\n",
            "    Hard to breath       1.00      1.00      1.00       112\n",
            "         Head ache       1.00      1.00      1.00       101\n",
            "       Heart hurts       1.00      0.99      1.00       113\n",
            "    Infected wound       1.00      1.00      1.00       122\n",
            "Injury from sports       1.00      1.00      1.00        92\n",
            "     Internal pain       1.00      0.95      0.98       109\n",
            "        Joint pain       1.00      1.00      1.00       117\n",
            "         Knee pain       1.00      1.00      1.00       115\n",
            "       Muscle pain       1.00      1.00      1.00       105\n",
            "         Neck pain       1.00      1.00      1.00       101\n",
            "        Open wound       1.00      1.00      1.00        85\n",
            "     Shoulder pain       0.99      1.00      1.00       132\n",
            "        Skin issue       0.99      1.00      1.00       110\n",
            "      Stomach ache       0.95      1.00      0.98       103\n",
            "\n",
            "          accuracy                           1.00      2664\n",
            "         macro avg       1.00      1.00      1.00      2664\n",
            "      weighted avg       1.00      1.00      1.00      2664\n",
            "\n"
          ]
        }
      ]
    },
    {
      "cell_type": "code",
      "source": [
        "from sklearn.ensemble import VotingClassifier\n",
        "\n",
        "combined_model = VotingClassifier(estimators=[('nb', nb), ('sgd', sgd), ('logreg', logreg)],voting='soft', weights=[2, 2, 1])\n",
        "\n",
        "combined_model.fit(X_train,Y_train)\n",
        "\n",
        "y_pred = combined_model.predict(X_test)\n",
        "\n",
        "print('accuracy %s' % accuracy_score(y_pred, Y_test))\n",
        "print(classification_report(Y_test, y_pred))\n"
      ],
      "metadata": {
        "colab": {
          "base_uri": "https://localhost:8080/"
        },
        "id": "UfF1cndgmhXG",
        "outputId": "e92d1b94-bab3-4076-a00f-c8073580bced"
      },
      "execution_count": 23,
      "outputs": [
        {
          "output_type": "stream",
          "name": "stderr",
          "text": [
            "/usr/local/lib/python3.7/dist-packages/sklearn/linear_model/_logistic.py:818: ConvergenceWarning: lbfgs failed to converge (status=1):\n",
            "STOP: TOTAL NO. of ITERATIONS REACHED LIMIT.\n",
            "\n",
            "Increase the number of iterations (max_iter) or scale the data as shown in:\n",
            "    https://scikit-learn.org/stable/modules/preprocessing.html\n",
            "Please also refer to the documentation for alternative solver options:\n",
            "    https://scikit-learn.org/stable/modules/linear_model.html#logistic-regression\n",
            "  extra_warning_msg=_LOGISTIC_SOLVER_CONVERGENCE_MSG,\n"
          ]
        },
        {
          "output_type": "stream",
          "name": "stdout",
          "text": [
            "accuracy 0.9928678678678678\n",
            "                    precision    recall  f1-score   support\n",
            "\n",
            "              Acne       1.00      1.00      1.00       138\n",
            "         Back pain       0.99      1.00      0.99        97\n",
            "     Blurry vision       1.00      1.00      1.00       105\n",
            "   Body feels weak       1.00      1.00      1.00        95\n",
            "             Cough       1.00      1.00      1.00       112\n",
            "          Ear ache       1.00      1.00      1.00       105\n",
            "    Emotional pain       0.99      0.96      0.97       100\n",
            "      Feeling cold       1.00      1.00      1.00       100\n",
            "     Feeling dizzy       1.00      1.00      1.00        94\n",
            "         Foot ache       1.00      0.99      0.99        96\n",
            "  Hair falling out       1.00      0.99      1.00       105\n",
            "    Hard to breath       1.00      1.00      1.00       112\n",
            "         Head ache       0.99      1.00      1.00       101\n",
            "       Heart hurts       0.97      0.99      0.98       113\n",
            "    Infected wound       1.00      1.00      1.00       122\n",
            "Injury from sports       1.00      1.00      1.00        92\n",
            "     Internal pain       1.00      0.91      0.95       109\n",
            "        Joint pain       1.00      0.99      1.00       117\n",
            "         Knee pain       1.00      1.00      1.00       115\n",
            "       Muscle pain       1.00      1.00      1.00       105\n",
            "         Neck pain       1.00      0.99      1.00       101\n",
            "        Open wound       1.00      1.00      1.00        85\n",
            "     Shoulder pain       0.99      1.00      1.00       132\n",
            "        Skin issue       0.99      1.00      1.00       110\n",
            "      Stomach ache       0.91      1.00      0.95       103\n",
            "\n",
            "          accuracy                           0.99      2664\n",
            "         macro avg       0.99      0.99      0.99      2664\n",
            "      weighted avg       0.99      0.99      0.99      2664\n",
            "\n"
          ]
        }
      ]
    },
    {
      "cell_type": "code",
      "source": [
        ""
      ],
      "metadata": {
        "id": "C52NM7WVmlTn"
      },
      "execution_count": null,
      "outputs": []
    }
  ]
}